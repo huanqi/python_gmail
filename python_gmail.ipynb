{
 "cells": [
  {
   "cell_type": "markdown",
   "metadata": {},
   "source": [
    "# 1, search for all the email addresses in the gmail account\n",
    "# 2, attach userid to the end of survey link\n",
    "# 3, automate the email delivery"
   ]
  },
  {
   "cell_type": "code",
   "execution_count": 1,
   "metadata": {
    "collapsed": true
   },
   "outputs": [],
   "source": [
    "#!/usr/bin/env python\n",
    "\n",
    "import sys\n",
    "import imaplib\n",
    "import getpass\n",
    "import email\n",
    "import datetime, re\n",
    "\n",
    "M = imaplib.IMAP4_SSL('imap.gmail.com')"
   ]
  },
  {
   "cell_type": "code",
   "execution_count": 2,
   "metadata": {
    "collapsed": false
   },
   "outputs": [
    {
     "name": "stdout",
     "output_type": "stream",
     "text": [
      "········\n"
     ]
    }
   ],
   "source": [
    "try:\n",
    "    M.login('zhu@wyzerr.com', getpass.getpass())\n",
    "except imaplib.IMAP4.error:\n",
    "    print \"LOGIN FAILED!!! \"\n",
    "    # ... exit or deal with failure..."
   ]
  },
  {
   "cell_type": "code",
   "execution_count": 6,
   "metadata": {
    "collapsed": false
   },
   "outputs": [
    {
     "name": "stdout",
     "output_type": "stream",
     "text": [
      "Mailboxes:\n",
      "['(\\\\HasNoChildren) \"/\" \"INBOX\"', '(\\\\HasChildren \\\\Noselect) \"/\" \"[Gmail]\"', '(\\\\All \\\\HasNoChildren) \"/\" \"[Gmail]/All Mail\"', '(\\\\Drafts \\\\HasNoChildren) \"/\" \"[Gmail]/Drafts\"', '(\\\\HasNoChildren \\\\Important) \"/\" \"[Gmail]/Important\"', '(\\\\HasNoChildren \\\\Sent) \"/\" \"[Gmail]/Sent Mail\"', '(\\\\HasNoChildren \\\\Junk) \"/\" \"[Gmail]/Spam\"', '(\\\\Flagged \\\\HasNoChildren) \"/\" \"[Gmail]/Starred\"', '(\\\\HasNoChildren \\\\Trash) \"/\" \"[Gmail]/Trash\"', '(\\\\HasNoChildren) \"/\" \"hqzhu11@gmail.com\"']\n"
     ]
    }
   ],
   "source": [
    "rv, mailboxes = M.list()\n",
    "if rv == 'OK':\n",
    "    print \"Mailboxes:\"\n",
    "    print mailboxes"
   ]
  },
  {
   "cell_type": "code",
   "execution_count": 7,
   "metadata": {
    "collapsed": true
   },
   "outputs": [],
   "source": [
    "rv, data = M.select(\"[Gmail]/All Mail\")"
   ]
  },
  {
   "cell_type": "code",
   "execution_count": 9,
   "metadata": {
    "collapsed": false
   },
   "outputs": [],
   "source": [
    "resp, items = M.search(None, 'ALL')\n",
    "\n",
    "items = items[0].split()\n",
    "items = items[0:10]"
   ]
  },
  {
   "cell_type": "code",
   "execution_count": 10,
   "metadata": {
    "collapsed": false,
    "scrolled": false
   },
   "outputs": [],
   "source": [
    "email_list = []\n",
    "for emailid in items:\n",
    "    resp, data = M.fetch(emailid, \"(RFC822)\")\n",
    "    email_body = data[0][1]\n",
    "    match = re.findall(r'[\\w\\.-]+@[\\w\\.-]+\\.com', email_body)\n",
    "    for email in match:\n",
    "        if 'mail.gmail.com' in email:\n",
    "            pass\n",
    "        elif 'zhu@wyzerr.com' in email:\n",
    "            pass\n",
    "        elif 'google.com' in email:\n",
    "            pass\n",
    "        else:\n",
    "            email_list.append(email)"
   ]
  },
  {
   "cell_type": "code",
   "execution_count": 11,
   "metadata": {
    "collapsed": true
   },
   "outputs": [],
   "source": [
    "survey_url = 'https://smartforms.wyzerr.com/#/surveys/129/27AbppWCl459h70hywBqEH'"
   ]
  },
  {
   "cell_type": "code",
   "execution_count": 12,
   "metadata": {
    "collapsed": false
   },
   "outputs": [
    {
     "name": "stdout",
     "output_type": "stream",
     "text": [
      "wyzerr.com@email.gusto.com\n",
      "https://smartforms.wyzerr.com/#/surveys/129/27AbppWCl459h70hywBqEH?userid=wyzerr.com\n",
      "hqzhu11@gmail.com\n",
      "https://smartforms.wyzerr.com/#/surveys/129/27AbppWCl459h70hywBqEH?userid=hqzhu11\n",
      "support@gusto.com\n",
      "https://smartforms.wyzerr.com/#/surveys/129/27AbppWCl459h70hywBqEH?userid=support\n",
      "stedmon@wyzerr.com\n",
      "https://smartforms.wyzerr.com/#/surveys/129/27AbppWCl459h70hywBqEH?userid=stedmon\n",
      "natasiam@gmail.com\n",
      "https://smartforms.wyzerr.com/#/surveys/129/27AbppWCl459h70hywBqEH?userid=natasiam\n",
      "careers@wyzerr.com\n",
      "https://smartforms.wyzerr.com/#/surveys/129/27AbppWCl459h70hywBqEH?userid=careers\n",
      "atasia@wyzerr.com\n",
      "https://smartforms.wyzerr.com/#/surveys/129/27AbppWCl459h70hywBqEH?userid=atasia\n",
      "natasia@wyzerr.com\n",
      "https://smartforms.wyzerr.com/#/surveys/129/27AbppWCl459h70hywBqEH?userid=natasia\n",
      "bjorn@wyzerr.com\n",
      "https://smartforms.wyzerr.com/#/surveys/129/27AbppWCl459h70hywBqEH?userid=bjorn\n"
     ]
    }
   ],
   "source": [
    "name_list = []\n",
    "survey_url_list = []\n",
    "\n",
    "for item in set(email_list):\n",
    "    user_id = item.split('@')[0]\n",
    "    survey_url_tag = survey_url + '?' + 'userid='+ user_id\n",
    "    name_list.append(item)\n",
    "    survey_url_list.append(survey_url_tag)\n",
    "    print item\n",
    "    print survey_url_tag\n",
    "    "
   ]
  },
  {
   "cell_type": "code",
   "execution_count": 100,
   "metadata": {
    "collapsed": false
   },
   "outputs": [
    {
     "name": "stdout",
     "output_type": "stream",
     "text": [
      "········\n"
     ]
    },
    {
     "data": {
      "text/plain": [
       "(235, '2.7.0 Accepted')"
      ]
     },
     "execution_count": 100,
     "metadata": {},
     "output_type": "execute_result"
    }
   ],
   "source": [
    "import smtplib\n",
    "from email.MIMEMultipart import MIMEMultipart\n",
    "from email.MIMEText import MIMEText\n",
    "\n",
    "server = smtplib.SMTP('smtp.gmail.com', 587)\n",
    "server.starttls()\n",
    "server.login('zhu@wyzerr.com', getpass.getpass())"
   ]
  },
  {
   "cell_type": "markdown",
   "metadata": {},
   "source": [
    "# Just do a show case here, could send an email to all the above emails, but I don't want to end up in the email block list"
   ]
  },
  {
   "cell_type": "code",
   "execution_count": 101,
   "metadata": {
    "collapsed": true
   },
   "outputs": [],
   "source": [
    "email_list = ['natasia@wyzerr.com', 'bjorn@wyzerr.com', 'stedmon@wyzerr.com', 'shad@wyzerr.com', 'zhu@wyzerr.com']\n",
    "# email_list = ['zhu@wyzerr.com']"
   ]
  },
  {
   "cell_type": "code",
   "execution_count": 102,
   "metadata": {
    "collapsed": false
   },
   "outputs": [
    {
     "name": "stdout",
     "output_type": "stream",
     "text": [
      "natasia\n",
      "https://smartforms.wyzerr.com/#/surveys/129/27AbppWCl459h70hywBqEH?userid=natasia\n",
      "bjorn\n",
      "https://smartforms.wyzerr.com/#/surveys/129/27AbppWCl459h70hywBqEH?userid=bjorn\n",
      "stedmon\n",
      "https://smartforms.wyzerr.com/#/surveys/129/27AbppWCl459h70hywBqEH?userid=stedmon\n",
      "shad\n",
      "https://smartforms.wyzerr.com/#/surveys/129/27AbppWCl459h70hywBqEH?userid=shad\n",
      "zhu\n",
      "https://smartforms.wyzerr.com/#/surveys/129/27AbppWCl459h70hywBqEH?userid=zhu\n"
     ]
    }
   ],
   "source": [
    "for email in email_list:\n",
    "    user_id = email.split('@')[0]\n",
    "    survey_url_tag = survey_url + '?' + 'userid='+ user_id\n",
    "    print user_id\n",
    "    print survey_url_tag\n",
    "    \n",
    "    fromaddr = \"zhu@wyzerr.com\"\n",
    "    toaddr = email\n",
    "    msg = MIMEMultipart()\n",
    "    msg['From'] = fromaddr\n",
    "    msg['To'] = toaddr\n",
    "    msg['Subject'] = \"THIS IS A TEST EMAIL\"\n",
    " \n",
    "    body = survey_url_tag\n",
    "    msg.attach(MIMEText(body, 'plain'))\n",
    " \n",
    "    text = msg.as_string()\n",
    "    server.sendmail(fromaddr, toaddr, text)\n",
    "#     server.quit()"
   ]
  },
  {
   "cell_type": "code",
   "execution_count": 96,
   "metadata": {
    "collapsed": false
   },
   "outputs": [],
   "source": [
    "# msg = \"THIS IS A TEST MESSAGE!\"\n",
    "# server.sendmail(\"zhu@wyzerr.com\", \"zhu@wyzerr.com\", msg)\n",
    "# server.quit()"
   ]
  },
  {
   "cell_type": "code",
   "execution_count": null,
   "metadata": {
    "collapsed": true
   },
   "outputs": [],
   "source": []
  }
 ],
 "metadata": {
  "kernelspec": {
   "display_name": "Python 2",
   "language": "python",
   "name": "python2"
  },
  "language_info": {
   "codemirror_mode": {
    "name": "ipython",
    "version": 2
   },
   "file_extension": ".py",
   "mimetype": "text/x-python",
   "name": "python",
   "nbconvert_exporter": "python",
   "pygments_lexer": "ipython2",
   "version": "2.7.12"
  }
 },
 "nbformat": 4,
 "nbformat_minor": 0
}
